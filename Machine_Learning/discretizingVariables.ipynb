{
 "cells": [
  {
   "cell_type": "markdown",
   "metadata": {},
   "source": [
    "# Machine Learning - Naive bayes classifier\n",
    "\n",
    "### Does discretizing variables improve classiﬁcation performance, compared to the Gaussian naive Bayes approach? "
   ]
  },
  {
   "cell_type": "code",
   "execution_count": 284,
   "metadata": {},
   "outputs": [],
   "source": [
    "import pandas as pd;\n",
    "import numpy as np;\n",
    "import matplotlib.pyplot as plt;\n",
    "import seaborn as sns \n",
    "import sklearn \n",
    "%matplotlib inline\n",
    "\n",
    "import scipy as sc \n",
    "import statsmodels.api as sm"
   ]
  },
  {
   "cell_type": "markdown",
   "metadata": {},
   "source": [
    "### 1) Load data & Preprocess Data:"
   ]
  },
  {
   "cell_type": "code",
   "execution_count": 331,
   "metadata": {},
   "outputs": [
    {
     "name": "stdout",
     "output_type": "stream",
     "text": [
      "['39', 'State-gov', 'Bachelors', 'Never-married', 'Adm-clerical', 'Not-in-family', 'White', 'Male', '40', 'United-States']\n",
      "<=50K\n"
     ]
    }
   ],
   "source": [
    "X = []\n",
    "y = []\n",
    "with open('datasets/adult.data', mode='r') as data:\n",
    "    for line in data:\n",
    "        atts = line.strip().split(\",\")\n",
    "        l = []\n",
    "        if(atts[-1]==\"\"): continue\n",
    "        l.append(atts[0]); l.append(atts[1]); l.append(atts[3]); \n",
    "        l.append(atts[5]); l.append(atts[6]); l.append(atts[7]); \n",
    "        l.append(atts[8]); l.append(atts[9]); \n",
    "        l.append(atts[12]); l.append(atts[13]);\n",
    "        X.append(l)\n",
    "        y.append(atts[-1]) \n",
    "        \n",
    "print(X[0])\n",
    "print(y[0])\n",
    "\n",
    "x_g = pd.DataFrame(X)\n",
    "\n"
   ]
  },
  {
   "cell_type": "code",
   "execution_count": 413,
   "metadata": {},
   "outputs": [
    {
     "name": "stdout",
     "output_type": "stream",
     "text": [
      "There are 32561 instances\n",
      "There are 10 attributes, for example: ['21-40', 'State-gov', 'Bachelors', 'Never-married', 'Adm-clerical', 'Not-in-family', 'White', 'Male', 'normal', 'United-States']\n",
      "There are 2 class labels: {'<=50K', '>50K'}\n",
      "Label frequencies: [('<=50K', 24720), ('>50K', 7841)]\n"
     ]
    }
   ],
   "source": [
    "# data information\n",
    "\n",
    "from collections import Counter\n",
    "print('There are', len(X), 'instances')\n",
    "print('There are', len(X[0]), \"attributes, for example:\", X[0])\n",
    "num_att = len(X[0])\n",
    "print('There are', len(set(y)), \"class labels:\", set(y))   \n",
    "#use Counter to count the number of labels\n",
    "label_counter = Counter(y)\n",
    "print(\"Label frequencies: %s\" %str(label_counter.most_common()))"
   ]
  },
  {
   "cell_type": "code",
   "execution_count": 333,
   "metadata": {},
   "outputs": [
    {
     "name": "stdout",
     "output_type": "stream",
     "text": [
      "[['21-40', 'State-gov', 'Bachelors', 'Never-married', 'Adm-clerical', 'Not-in-family', 'White', 'Male', 'normal', 'United-States'], ['41-60', 'Self-emp-not-inc', 'Bachelors', 'Married-civ-spouse', 'Exec-managerial', 'Husband', 'White', 'Male', 'low', 'United-States'], ['21-40', 'Private', 'HS-grad', 'Divorced', 'Handlers-cleaners', 'Not-in-family', 'White', 'Male', 'normal', 'United-States'], ['41-60', 'Private', '11th', 'Married-civ-spouse', 'Handlers-cleaners', 'Husband', 'Black', 'Male', 'normal', 'United-States'], ['21-40', 'Private', 'Bachelors', 'Married-civ-spouse', 'Prof-specialty', 'Wife', 'Black', 'Female', 'normal', 'Cuba']]\n"
     ]
    }
   ],
   "source": [
    "# make another X with dicretized values\n",
    "\n",
    "def discretize_age(age):\n",
    "    if(age<=20): return \"<20\"\n",
    "    elif(20<age<=40): return \"21-40\"\n",
    "    elif(40<age<=60): return \"41-60\"\n",
    "    elif(60<age<=80): return \"61-80\"\n",
    "    elif(60<age<=80): return \"61-80\"\n",
    "    elif(age>80): return \">80\"\n",
    "    \n",
    "def discretize_hours(h):\n",
    "    if(h<=30): return \"low\"\n",
    "    elif(30<h<=50): return \"normal\"\n",
    "    elif(h>50): return \"high\"\n",
    "    \n",
    "discretized_x = []\n",
    "\n",
    "for instance in X:\n",
    "    age = discretize_age(int(instance[0]))\n",
    "    h = discretize_hours(int(instance[8]))\n",
    "    l = instance\n",
    "    l[0] = age\n",
    "    l[8] = h\n",
    "    discretized_x.append(l)\n",
    "    \n",
    "x_dis = pd.DataFrame(discretized_x)\n",
    "print(discretized_x[0:5])"
   ]
  },
  {
   "cell_type": "code",
   "execution_count": 570,
   "metadata": {},
   "outputs": [
    {
     "name": "stdout",
     "output_type": "stream",
     "text": [
      "AGE: min: 17, mean: 38.58164675532078, max: 90\n"
     ]
    },
    {
     "data": {
      "text/plain": [
       "Text(0.5, 1.0, 'AGE')"
      ]
     },
     "execution_count": 570,
     "metadata": {},
     "output_type": "execute_result"
    },
    {
     "data": {
      "image/png": "[encoded data removed]",
      "text/plain": [
       "<Figure size 432x288 with 1 Axes>"
      ]
     },
     "metadata": {
      "needs_background": "light"
     },
     "output_type": "display_data"
    }
   ],
   "source": [
    "print(\"AGE: min: {}, mean: {}, max: {}\".format(np.min(list(map(int,x_g[0]))),np.mean(list(map(int,x_g[0]))),np.max(list(map(int,x_g[0])))))\n",
    "sns.distplot(list(map(int,x_g[0]))).set_title(\"AGE\")"
   ]
  },
  {
   "cell_type": "code",
   "execution_count": 197,
   "metadata": {},
   "outputs": [],
   "source": [
    "# print(\"AGE: min: {}, mean: {}, max: {}\".format(np.min(data[0]),np.mean(data[0]),np.max(data[0])))\n",
    "#sns.distplot(data[12]).set_title(\"hours\")"
   ]
  },
  {
   "cell_type": "code",
   "execution_count": null,
   "metadata": {},
   "outputs": [],
   "source": []
  },
  {
   "cell_type": "code",
   "execution_count": null,
   "metadata": {},
   "outputs": [],
   "source": []
  },
  {
   "cell_type": "markdown",
   "metadata": {},
   "source": [
    "### 2) Train model:"
   ]
  },
  {
   "cell_type": "code",
   "execution_count": 350,
   "metadata": {},
   "outputs": [],
   "source": [
    "# Split data:\n",
    "\n",
    "xdis_train, xdis_test, ydis_train, ydis_test = train_test_split(x_dis, y, test_size=0.33)\n",
    "xgaus_train, xgaus_test, ygaus_train, ygaus_test = train_test_split(x_g, y, test_size=0.33)"
   ]
  },
  {
   "cell_type": "code",
   "execution_count": 511,
   "metadata": {},
   "outputs": [
    {
     "name": "stdout",
     "output_type": "stream",
     "text": [
      "('<=50K', 24720)\n",
      "('>50K', 7841)\n",
      "0.7591904425539756\n",
      "0.2408095574460244\n"
     ]
    }
   ],
   "source": [
    "# a) training discretized \n",
    "\n",
    "#i) compute priors:\n",
    "label_counter = Counter(y)\n",
    "under50k, over50k = label_counter.most_common()\n",
    "print(under50k)\n",
    "print(over50k)\n",
    "\n",
    "n_under = under50k[1]\n",
    "n_over = over50k[1]\n",
    "\n",
    "p_under = under50k[1]/(under50k[1]+over50k[1])\n",
    "p_over = over50k[1]/(under50k[1]+over50k[1])\n",
    "\n",
    "print(p_under)\n",
    "print(p_over)"
   ]
  },
  {
   "cell_type": "code",
   "execution_count": 541,
   "metadata": {},
   "outputs": [
    {
     "name": "stdout",
     "output_type": "stream",
     "text": [
      "{'<=50K': {'41-60': 1, '21-40': 1, '>80': 1, '61-80': 1, '<20': 1}, '>50K': {'41-60': 1, '21-40': 1, '>80': 1, '61-80': 1, '<20': 1}}\n"
     ]
    }
   ],
   "source": [
    "#ii) compute conditional probailities with laplace smoothing \n",
    "\n",
    "# a) make data structure\n",
    "bayes_p = []\n",
    "\n",
    "for att_n in xdis_train:\n",
    "    d = {}\n",
    "    d2 = {}\n",
    "    for att in set(xdis_train[att_n]):\n",
    "        d.update({att:1})\n",
    "        d2.update({att:1})\n",
    "    bayes_p.append({\"<=50K\":d, \">50K\":d2})\n",
    "\n",
    "print(bayes_p[0])\n"
   ]
  },
  {
   "cell_type": "code",
   "execution_count": 600,
   "metadata": {},
   "outputs": [
    {
     "name": "stdout",
     "output_type": "stream",
     "text": [
      "{'<=50K': {'41-60': 0.01, '21-40': 0.01, '>80': 0.01, '61-80': 0.01, '<20': 0.01}, '>50K': {'41-60': 0.01, '21-40': 0.01, '>80': 0.01, '61-80': 0.01, '<20': 0.01}}\n"
     ]
    }
   ],
   "source": [
    "\n",
    "bayes_p_noSmooth = []\n",
    "\n",
    "for att_n in xdis_train:\n",
    "    d = {}\n",
    "    d2 = {}\n",
    "    for att in set(xdis_train[att_n]):\n",
    "        d.update({att:0.01})\n",
    "        d2.update({att:0.01})\n",
    "    bayes_p_noSmooth.append({\"<=50K\":d, \">50K\":d2})\n",
    "\n",
    "print(bayes_p_noSmooth[0])"
   ]
  },
  {
   "cell_type": "code",
   "execution_count": 542,
   "metadata": {},
   "outputs": [
    {
     "name": "stdout",
     "output_type": "stream",
     "text": [
      "{'<=50K': {'41-60': 4611, '21-40': 9196, '>80': 60, '61-80': 1129, '<20': 1601}, '>50K': {'41-60': 2794, '21-40': 2054, '>80': 9, '61-80': 370, '<20': 1}}\n"
     ]
    }
   ],
   "source": [
    "# b) count to get probabilities\n",
    "\n",
    "for column_n in range(len(xdis_train.columns)): #every column\n",
    "    n = 0\n",
    "    for att in xdis_train[column_n]:            #every row\n",
    "        bayes_p[column_n][ydis_train[n]][att]+=1\n",
    "        n+=1\n",
    "        \n",
    "print(bayes_p[0])"
   ]
  },
  {
   "cell_type": "code",
   "execution_count": 601,
   "metadata": {},
   "outputs": [],
   "source": [
    "for column_n in range(len(xdis_train.columns)): #every column\n",
    "    n = 0\n",
    "    for att in xdis_train[column_n]:            #every row\n",
    "        bayes_p_noSmooth[column_n][ydis_train[n]][att]+=1\n",
    "        n+=1\n",
    "        \n",
    "#print(bayes_p_noSmooth[0])"
   ]
  },
  {
   "cell_type": "code",
   "execution_count": 446,
   "metadata": {},
   "outputs": [
    {
     "name": "stdout",
     "output_type": "stream",
     "text": [
      "['51', '54', '46', '48', '45']\n",
      "['49', '32', '37', '49', '20']\n",
      "44.22798621745789\n",
      "10.517409438856955\n",
      "36.75866433608583\n",
      "14.066439755048803\n",
      "45.41653905053599\n",
      "11.0807250509294\n",
      "38.787475137122534\n",
      "12.335427728648847\n"
     ]
    }
   ],
   "source": [
    "# Gausssian Model:\n",
    "\n",
    "n = 0\n",
    "age_above50 = []\n",
    "age_under50 = []\n",
    "for i in xgaus_train[0]:\n",
    "    if ygaus_train[n] == '>50K': age_above50.append(i)\n",
    "    elif ygaus_train[n] == '<=50K': age_under50.append(i)\n",
    "    n+=1\n",
    "# print(age_above50)\n",
    "\n",
    "age_above50_mean = np.mean(list(map(int,age_above50)))\n",
    "age_above50_std = np.std(list(map(int,age_above50)))\n",
    "age_under50_mean = np.mean(list(map(int,age_under50)))\n",
    "age_under50_std = np.std(list(map(int,age_under50)))\n",
    "\n",
    "print(age_above50[0:5])\n",
    "print(age_under50[0:5])\n",
    "\n",
    "print(age_above50_mean)\n",
    "print(age_above50_std)\n",
    "print(age_under50_mean)\n",
    "print(age_under50_std)\n",
    "\n",
    "n = 0\n",
    "h_above50 = []\n",
    "h_under50 = []\n",
    "for i in xgaus_train[8]:\n",
    "    if ygaus_train[n] == '>50K': h_above50.append(i)\n",
    "    elif ygaus_train[n] == '<=50K': h_under50.append(i)\n",
    "    n+=1\n",
    "# print(h_above50)\n",
    "\n",
    "h_above50_mean = np.mean(list(map(int,h_above50)))\n",
    "h_above50_std = np.std(list(map(int,h_above50)))\n",
    "h_under50_mean = np.mean(list(map(int,h_under50)))\n",
    "h_under50_std = np.std(list(map(int,h_under50)))\n",
    "\n",
    "print(h_above50_mean)\n",
    "print(h_above50_std)\n",
    "print(h_under50_mean)\n",
    "print(h_under50_std)\n",
    "\n",
    "\n"
   ]
  },
  {
   "cell_type": "code",
   "execution_count": 553,
   "metadata": {},
   "outputs": [
    {
     "name": "stdout",
     "output_type": "stream",
     "text": [
      "{'<=50K': {'Local-gov': 1, 'Self-emp-not-inc': 1, 'Without-pay': 1, 'Never-worked': 1, 'Private': 1, 'Self-emp-inc': 1, 'State-gov': 1, '?': 1, 'Federal-gov': 1}, '>50K': {'Local-gov': 1, 'Self-emp-not-inc': 1, 'Without-pay': 1, 'Never-worked': 1, 'Private': 1, 'Self-emp-inc': 1, 'State-gov': 1, '?': 1, 'Federal-gov': 1}}\n"
     ]
    }
   ],
   "source": [
    "# make gaus data structure\n",
    "bayes_p_gaus = []\n",
    "\n",
    "bayes_p_gaus.append({\"<=50K\":{\"mean\": age_above50_mean, \"std\":age_above50_std}, \n",
    "                     \">50K\":{\"mean\": age_under50_mean, \"std\":age_under50_std}})\n",
    "\n",
    "l = [1,2,3,4,5,6,7,8,9]\n",
    "\n",
    "for att_n in l:\n",
    "    if att_n == 8:\n",
    "        bayes_p_gaus.append({\"<=50K\":{\"mean\": h_above50_mean, \"std\":h_above50_std}, \n",
    "                     \">50K\":{\"mean\": h_under50_mean, \"std\":h_under50_std}})\n",
    "    else:\n",
    "        d = {}\n",
    "        d2 = {}\n",
    "        for att in set(xgaus_train[att_n]):\n",
    "            d.update({att:1})\n",
    "            d2.update({att:1})\n",
    "        bayes_p_gaus.append({\"<=50K\":d, \">50K\":d2})\n",
    "\n",
    "print(bayes_p_gaus[0])\n"
   ]
  },
  {
   "cell_type": "code",
   "execution_count": 577,
   "metadata": {},
   "outputs": [
    {
     "name": "stdout",
     "output_type": "stream",
     "text": [
      "{'<=50K': {'Local-gov': 2043, 'Self-emp-not-inc': 2389, 'Without-pay': 25, 'Never-worked': 11, 'Private': 23781, 'Self-emp-inc': 669, 'State-gov': 1245, '?': 2215, 'Federal-gov': 813}, '>50K': {'Local-gov': 817, 'Self-emp-not-inc': 979, 'Without-pay': 1, 'Never-worked': 1, 'Private': 6607, 'Self-emp-inc': 799, 'State-gov': 497, '?': 265, 'Federal-gov': 491}}\n"
     ]
    }
   ],
   "source": [
    "# add counts to Gaus data structure:\n",
    "\n",
    "for column_n in range(len(xgaus_train.columns)): #every column\n",
    "    n = 0\n",
    "    if column_n == 0 or column_n == 8:\n",
    "        continue\n",
    "    for att in xgaus_train[column_n]:            #every row\n",
    "        bayes_p_gaus[column_n][ygaus_train[n]][att]+=1\n",
    "        n+=1\n",
    "        \n",
    "\n",
    "print(bayes_p_gaus[1])\n"
   ]
  },
  {
   "cell_type": "markdown",
   "metadata": {},
   "source": [
    "### 3) Predict:"
   ]
  },
  {
   "cell_type": "code",
   "execution_count": 544,
   "metadata": {},
   "outputs": [
    {
     "name": "stdout",
     "output_type": "stream",
     "text": [
      "['<=50K', '<=50K', '>50K', '<=50K', '<=50K', '>50K', '<=50K', '>50K', '>50K', '<=50K']\n"
     ]
    }
   ],
   "source": [
    "# predict discretized\n",
    "\n",
    "predictions_dis = []\n",
    "\n",
    "for instance in xdis_test.iterrows():\n",
    "    n = 0\n",
    "    local_p_over = np.log(p_over)\n",
    "    local_p_under = np.log(p_under)\n",
    "    for att in instance[1]:\n",
    "\n",
    "        u = bayes_p[n]['<=50K'][att] \n",
    "        o = bayes_p[n]['>50K'][att]\n",
    "        \n",
    "        po = o/n_over\n",
    "        pu = u/n_under\n",
    "        \n",
    "        local_p_over += np.log(po)\n",
    "        local_p_under += np.log(pu)\n",
    "        n+=1\n",
    "        \n",
    "    if local_p_over<=local_p_under:\n",
    "        predictions_dis.append('<=50K')\n",
    "    elif local_p_over>local_p_under:\n",
    "        predictions_dis.append('>50K')\n",
    "\n",
    "print(predictions_dis[0:10])\n",
    "    "
   ]
  },
  {
   "cell_type": "code",
   "execution_count": 602,
   "metadata": {},
   "outputs": [
    {
     "name": "stdout",
     "output_type": "stream",
     "text": [
      "['<=50K', '<=50K', '>50K', '<=50K', '<=50K', '>50K', '<=50K', '>50K', '>50K', '<=50K']\n"
     ]
    }
   ],
   "source": [
    "predictions_dis_nos = []\n",
    "\n",
    "for instance in xdis_test.iterrows():\n",
    "    n = 0\n",
    "    local_p_over = np.log(p_over)\n",
    "    local_p_under = np.log(p_under)\n",
    "    for att in instance[1]:\n",
    "\n",
    "        u = bayes_p_noSmooth[n]['<=50K'][att] \n",
    "        o = bayes_p_noSmooth[n]['>50K'][att]\n",
    "        \n",
    "        po = o/n_over\n",
    "        pu = u/n_under\n",
    "        \n",
    "        local_p_over += np.log(po)\n",
    "        local_p_under += np.log(pu)\n",
    "        n+=1\n",
    "        \n",
    "    if local_p_over<=local_p_under:\n",
    "        predictions_dis_nos.append('<=50K')\n",
    "    elif local_p_over>local_p_under:\n",
    "        predictions_dis_nos.append('>50K')\n",
    "\n",
    "print(predictions_dis_nos[0:10])"
   ]
  },
  {
   "cell_type": "code",
   "execution_count": 599,
   "metadata": {},
   "outputs": [
    {
     "name": "stdout",
     "output_type": "stream",
     "text": [
      "['>50K', '>50K', '<=50K', '>50K', '<=50K', '<=50K', '>50K', '>50K', '<=50K', '<=50K']\n"
     ]
    }
   ],
   "source": [
    "# predict Gaussian\n",
    "predictions_gaus = []\n",
    "\n",
    "for instance in xgaus_test.iterrows():\n",
    "    n = 0\n",
    "    local_p_over = np.log(p_over)\n",
    "    local_p_under = np.log(p_under)\n",
    "    for att in instance[1]:\n",
    "        if n==0 or n==8:\n",
    "            po = sc.stats.norm(loc=bayes_p_gaus[n]['>50K']['mean'],scale=bayes_p_gaus[n]['>50K']['std']).pdf(int(att))\n",
    "            pu = sc.stats.norm(loc=bayes_p_gaus[n]['<=50K']['mean'],scale=bayes_p_gaus[n]['<=50K']['std']).pdf(int(att))\n",
    "        else:\n",
    "            u = bayes_p[n]['<=50K'][att] \n",
    "            o = bayes_p[n]['>50K'][att]\n",
    "            po = o/n_over\n",
    "            pu = u/n_under\n",
    "        \n",
    "        local_p_over += np.log(po)\n",
    "        local_p_under += np.log(pu)\n",
    "        n+=1\n",
    "        \n",
    "    if local_p_over<=local_p_under:\n",
    "        predictions_gaus.append('<=50K')\n",
    "    elif local_p_over>local_p_under:\n",
    "        predictions_gaus.append('>50K')\n",
    "\n",
    "print(predictions_gaus[0:10])"
   ]
  },
  {
   "cell_type": "code",
   "execution_count": null,
   "metadata": {},
   "outputs": [],
   "source": []
  },
  {
   "cell_type": "markdown",
   "metadata": {},
   "source": [
    "### 4) Evaluate:"
   ]
  },
  {
   "cell_type": "code",
   "execution_count": 545,
   "metadata": {},
   "outputs": [
    {
     "name": "stdout",
     "output_type": "stream",
     "text": [
      "8517\n",
      "0.792573981016192\n"
     ]
    }
   ],
   "source": [
    "# evaluate Discretized\n",
    "\n",
    "correct = 0\n",
    "for i in range(len(predictions_dis)):\n",
    "    if predictions_dis[i]==ydis_test[i]: correct+=1\n",
    "print(correct)\n",
    "accuracy_dis = correct/len(predictions_dis)\n",
    "print(accuracy_dis)\n"
   ]
  },
  {
   "cell_type": "code",
   "execution_count": 603,
   "metadata": {},
   "outputs": [
    {
     "name": "stdout",
     "output_type": "stream",
     "text": [
      "8519\n",
      "0.7927600967801973\n"
     ]
    }
   ],
   "source": [
    "correct = 0\n",
    "for i in range(len(predictions_dis_nos)):\n",
    "    if predictions_dis_nos[i]==ydis_test[i]: correct+=1\n",
    "print(correct)\n",
    "accuracy_dis_nos = correct/len(predictions_dis_nos)\n",
    "print(accuracy_dis_nos)\n"
   ]
  },
  {
   "cell_type": "code",
   "execution_count": 548,
   "metadata": {},
   "outputs": [
    {
     "name": "stdout",
     "output_type": "stream",
     "text": [
      "8128\n",
      "0.7563744649171785\n",
      "model is 3.6199516099013507% more accurate than 0R\n"
     ]
    }
   ],
   "source": [
    "# Discretized vs 0R\n",
    "\n",
    "zero_r = []\n",
    "for i in ydis_test:\n",
    "    zero_r.append(\"<=50K\")#which is the most likely class\n",
    "\n",
    "correct = 0\n",
    "for i in range(len(zero_r)):\n",
    "    if zero_r[i]==ydis_test[i]: correct+=1\n",
    "print(correct)\n",
    "accuracy_zero_r = correct/len(zero_r)\n",
    "print(accuracy_zero_r)\n",
    "\n",
    "print(\"model is {}% more accurate than 0R\".format((accuracy_dis-accuracy_zero_r)*100))"
   ]
  },
  {
   "cell_type": "code",
   "execution_count": 598,
   "metadata": {},
   "outputs": [
    {
     "name": "stdout",
     "output_type": "stream",
     "text": [
      "8338\n",
      "0.7759166201377257\n",
      "model is 1.9542155220547142% more accurate than 0R\n",
      "Using the Gaussian distribution makes the model -1.6657360878466365% more accurate than discretizing continuos variables\n"
     ]
    }
   ],
   "source": [
    "# evaluate Gaussian\n",
    "\n",
    "correct = 0\n",
    "for i in range(len(predictions_gaus)):\n",
    "    if predictions_gaus[i]==ygaus_test[i]: correct+=1\n",
    "print(correct)\n",
    "accuracy_gaus = correct/len(predictions_gaus)\n",
    "print(accuracy_gaus)\n",
    "print(\"model is {}% more accurate than 0R\".format((accuracy_gaus-accuracy_zero_r)*100))\n",
    "print(\"Using the Gaussian distribution makes the model {}% more accurate than discretizing continuos variables\".format((accuracy_gaus-accuracy_dis)*100))"
   ]
  },
  {
   "cell_type": "code",
   "execution_count": null,
   "metadata": {},
   "outputs": [],
   "source": []
  }
 ],
 "metadata": {
  "kernelspec": {
   "display_name": "Python 3",
   "language": "python",
   "name": "python3"
  },
  "language_info": {
   "codemirror_mode": {
    "name": "ipython",
    "version": 3
   },
   "file_extension": ".py",
   "mimetype": "text/x-python",
   "name": "python",
   "nbconvert_exporter": "python",
   "pygments_lexer": "ipython3",
   "version": "3.7.3"
  }
 },
 "nbformat": 4,
 "nbformat_minor": 2
}
